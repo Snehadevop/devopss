{
  "nbformat": 4,
  "nbformat_minor": 0,
  "metadata": {
    "colab": {
      "provenance": [],
      "authorship_tag": "ABX9TyNTjFOcnBuwZjNRortc3HQQ",
      "include_colab_link": true
    },
    "kernelspec": {
      "name": "python3",
      "display_name": "Python 3"
    },
    "language_info": {
      "name": "python"
    }
  },
  "cells": [
    {
      "cell_type": "markdown",
      "metadata": {
        "id": "view-in-github",
        "colab_type": "text"
      },
      "source": [
        "<a href=\"https://colab.research.google.com/github/Snehadevop/devopss/blob/main/Task1.ipynb\" target=\"_parent\"><img src=\"https://colab.research.google.com/assets/colab-badge.svg\" alt=\"Open In Colab\"/></a>"
      ]
    },
    {
      "cell_type": "code",
      "execution_count": null,
      "metadata": {
        "colab": {
          "base_uri": "https://localhost:8080/"
        },
        "id": "mcYXgdfS749c",
        "outputId": "3a20ebeb-bacd-42db-a278-ea1921deeb2f"
      },
      "outputs": [
        {
          "output_type": "stream",
          "name": "stdout",
          "text": [
            "----- Basic Calculator -----\n",
            "Select operation:\n",
            "1. Addition (+)\n",
            "2. Subtraction (-)\n",
            "3. Multiplication (*)\n",
            "4. Division (/)\n",
            "Enter choice (1/2/3/4): 2\n",
            "Enter first number: 14\n",
            "Enter second number: 9\n",
            "14.0 - 9.0 = 5.0\n"
          ]
        }
      ],
      "source": [
        "def calculator():\n",
        "    print(\"----- Basic Calculator -----\")\n",
        "    print(\"Select operation:\")\n",
        "    print(\"1. Addition (+)\")\n",
        "    print(\"2. Subtraction (-)\")\n",
        "    print(\"3. Multiplication (*)\")\n",
        "    print(\"4. Division (/)\")\n",
        "\n",
        "    choice = input(\"Enter choice (1/2/3/4): \")\n",
        "\n",
        "    # Get user input for numbers\n",
        "    num1 = float(input(\"Enter first number: \"))\n",
        "    num2 = float(input(\"Enter second number: \"))\n",
        "\n",
        "    if choice == '1':\n",
        "        print(f\"{num1} + {num2} = {num1 + num2}\")\n",
        "    elif choice == '2':\n",
        "        print(f\"{num1} - {num2} = {num1 - num2}\")\n",
        "    elif choice == '3':\n",
        "        print(f\"{num1} * {num2} = {num1 * num2}\")\n",
        "    elif choice == '4':\n",
        "        if num2 != 0:\n",
        "            print(f\"{num1} / {num2} = {num1 / num2}\")\n",
        "        else:\n",
        "            print(\"Error! Division by zero is not allowed.\")\n",
        "    else:\n",
        "        print(\"Invalid choice! Please select 1, 2, 3, or 4.\")\n",
        "\n",
        "# Run the calculator\n",
        "calculator()\n"
      ]
    }
  ]
}