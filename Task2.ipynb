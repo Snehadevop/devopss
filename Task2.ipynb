{
  "nbformat": 4,
  "nbformat_minor": 0,
  "metadata": {
    "colab": {
      "provenance": [],
      "authorship_tag": "ABX9TyN+fTDpMrr3YBpOq5b5TieZ",
      "include_colab_link": true
    },
    "kernelspec": {
      "name": "python3",
      "display_name": "Python 3"
    },
    "language_info": {
      "name": "python"
    }
  },
  "cells": [
    {
      "cell_type": "markdown",
      "metadata": {
        "id": "view-in-github",
        "colab_type": "text"
      },
      "source": [
        "<a href=\"https://colab.research.google.com/github/Snehadevop/devopss/blob/main/Task2.ipynb\" target=\"_parent\"><img src=\"https://colab.research.google.com/assets/colab-badge.svg\" alt=\"Open In Colab\"/></a>"
      ]
    },
    {
      "cell_type": "code",
      "execution_count": null,
      "metadata": {
        "colab": {
          "base_uri": "https://localhost:8080/"
        },
        "id": "6ApqQLXt86hE",
        "outputId": "c2847174-845c-475d-a659-d287f067b654"
      },
      "outputs": [
        {
          "output_type": "stream",
          "name": "stdout",
          "text": [
            "----- Welcome to the Number Guessing Game -----\n",
            "Guess a number between 1 and 100: 50\n",
            "Too low! Try again.\n",
            "Guess a number between 1 and 100: 99\n",
            "Too high! Try again.\n",
            "Guess a number between 1 and 100: 75\n",
            "Too high! Try again.\n"
          ]
        }
      ],
      "source": [
        "import random\n",
        "\n",
        "def number_guessing_game():\n",
        "    print(\"----- Welcome to the Number Guessing Game -----\")\n",
        "    secret_number = random.randint(1, 100)  # Generate a random number between 1 and 100\n",
        "    attempts = 0\n",
        "\n",
        "    while True:\n",
        "        guess = int(input(\"Guess a number between 1 and 100: \"))\n",
        "        attempts += 1\n",
        "\n",
        "        if guess < secret_number:\n",
        "            print(\"Too low! Try again.\")\n",
        "        elif guess > secret_number:\n",
        "            print(\"Too high! Try again.\")\n",
        "        else:\n",
        "            print(f\"🎉 Congratulations! You guessed the number {secret_number} in {attempts} attempts.\")\n",
        "            break\n",
        "\n",
        "# Run the game\n",
        "number_guessing_game()\n"
      ]
    }
  ]
}