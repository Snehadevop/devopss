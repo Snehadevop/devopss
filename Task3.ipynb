{
  "nbformat": 4,
  "nbformat_minor": 0,
  "metadata": {
    "colab": {
      "provenance": [],
      "authorship_tag": "ABX9TyO71O7jlYcgP45oFbge6v+y",
      "include_colab_link": true
    },
    "kernelspec": {
      "name": "python3",
      "display_name": "Python 3"
    },
    "language_info": {
      "name": "python"
    }
  },
  "cells": [
    {
      "cell_type": "markdown",
      "metadata": {
        "id": "view-in-github",
        "colab_type": "text"
      },
      "source": [
        "<a href=\"https://colab.research.google.com/github/Snehadevop/devopss/blob/main/Task3.ipynb\" target=\"_parent\"><img src=\"https://colab.research.google.com/assets/colab-badge.svg\" alt=\"Open In Colab\"/></a>"
      ]
    },
    {
      "cell_type": "code",
      "execution_count": null,
      "metadata": {
        "id": "5PGcl_y_993K",
        "outputId": "87fd9adf-4778-41b2-c9e5-1f7b0356f38b",
        "colab": {
          "base_uri": "https://localhost:8080/"
        }
      },
      "outputs": [
        {
          "output_type": "stream",
          "name": "stdout",
          "text": [
            "----- Temperature Converter -----\n",
            "Choose the input temperature scale:\n",
            "1. Celsius (°C)\n",
            "2. Fahrenheit (°F)\n",
            "3. Kelvin (K)\n"
          ]
        }
      ],
      "source": [
        "def temperature_converter():\n",
        "    print(\"----- Temperature Converter -----\")\n",
        "    print(\"Choose the input temperature scale:\")\n",
        "    print(\"1. Celsius (°C)\")\n",
        "    print(\"2. Fahrenheit (°F)\")\n",
        "    print(\"3. Kelvin (K)\")\n",
        "\n",
        "    choice = input(\"Enter choice (1/2/3): \")\n",
        "    temp = float(input(\"Enter the temperature value: \"))\n",
        "\n",
        "    if choice == '1':  # Celsius\n",
        "        c = temp\n",
        "        f = (c * 9/5) + 32\n",
        "        k = c + 273.15\n",
        "        print(f\"{c} °C = {f:.2f} °F = {k:.2f} K\")\n",
        "\n",
        "    elif choice == '2':  # Fahrenheit\n",
        "        f = temp\n",
        "        c = (f - 32) * 5/9\n",
        "        k = (f - 32) * 5/9 + 273.15\n",
        "        print(f\"{f} °F = {c:.2f} °C = {k:.2f} K\")\n",
        "\n",
        "    elif choice == '3':  # Kelvin\n",
        "        k = temp\n",
        "        c = k - 273.15\n",
        "        f = (k - 273.15) * 9/5 + 32\n",
        "        print(f\"{k} K = {c:.2f} °C = {f:.2f} °F\")\n",
        "\n",
        "    else:\n",
        "        print(\"Invalid choice! Please select 1, 2, or 3.\")\n",
        "\n",
        "# Run the converter\n",
        "temperature_converter()\n"
      ]
    }
  ]
}